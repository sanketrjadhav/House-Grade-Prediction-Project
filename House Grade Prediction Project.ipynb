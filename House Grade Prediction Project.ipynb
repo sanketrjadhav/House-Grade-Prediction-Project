{
 "cells": [
  {
   "cell_type": "markdown",
   "metadata": {},
   "source": [
    "# Data Cleaning"
   ]
  },
  {
   "cell_type": "code",
   "execution_count": 1,
   "metadata": {},
   "outputs": [],
   "source": [
    "# Importing Librareis\n",
    "import pandas as pd\n",
    "import numpy as np\n",
    "import matplotlib.pyplot as plt\n",
    "import statsmodels.api as sm\n",
    "from sklearn.model_selection import train_test_split\n",
    "from sklearn.metrics import confusion_matrix,classification_report\n",
    "from sklearn.ensemble import RandomForestClassifier\n",
    "from sklearn.model_selection import GridSearchCV\n",
    "from sklearn.svm import SVC\n",
    "from xgboost import XGBClassifier\n",
    "from sklearn.neighbors import KNeighborsClassifier\n",
    "import seaborn as sns\n",
    "import warnings\n",
    "warnings.filterwarnings('ignore')"
   ]
  },
  {
   "cell_type": "code",
   "execution_count": 2,
   "metadata": {},
   "outputs": [],
   "source": [
    "train = pd.read_csv('train.csv')\n",
    "test = pd.read_csv('test.csv')\n",
    "\n",
    "data = train.append(test, ignore_index=True, sort=False)"
   ]
  },
  {
   "cell_type": "code",
   "execution_count": 3,
   "metadata": {},
   "outputs": [],
   "source": [
    "data.drop(['Roof(Area)','id','ANB'], axis=1, inplace=True)"
   ]
  },
  {
   "cell_type": "code",
   "execution_count": 4,
   "metadata": {},
   "outputs": [],
   "source": [
    "for column in ['Troom', 'Nbedrooms', 'Nbwashrooms', 'Twashrooms']:\n",
    "    data[column].fillna(data[column].mode()[0], inplace=True)\n",
    "    \n",
    "data['Lawn(Area)']=data['Lawn(Area)'].fillna(round(data['Lawn(Area)'].mean()))\n",
    "data['API']=data['API'].fillna(round(data['API'].mean()))"
   ]
  },
  {
   "cell_type": "code",
   "execution_count": 5,
   "metadata": {},
   "outputs": [],
   "source": [
    "data.at[data['roof']=='NO','roof']=0\n",
    "data.at[data['roof']=='YES','roof']=1\n",
    "data.at[data['roof']=='yes','roof']=1\n",
    "data.at[data['roof']=='no','roof']=0\n",
    "\n",
    "data['EXPECTED'] =data['EXPECTED'].replace({'\\$':''}, regex = True)"
   ]
  },
  {
   "cell_type": "code",
   "execution_count": 6,
   "metadata": {},
   "outputs": [],
   "source": [
    "train = data.iloc[:7000]\n",
    "test = data.iloc[7000:]"
   ]
  },
  {
   "cell_type": "code",
   "execution_count": 7,
   "metadata": {},
   "outputs": [],
   "source": [
    "test.drop(['Grade'], axis=1, inplace=True)"
   ]
  },
  {
   "cell_type": "code",
   "execution_count": 8,
   "metadata": {},
   "outputs": [],
   "source": [
    "from sklearn.impute import KNNImputer\n",
    "imputer = KNNImputer(n_neighbors=1)\n",
    "test=imputer.fit_transform(test)\n",
    "test=pd.DataFrame(test)"
   ]
  },
  {
   "cell_type": "code",
   "execution_count": 9,
   "metadata": {},
   "outputs": [],
   "source": [
    "X=train[['Area(total)','Troom', 'Nbedrooms', 'Nbwashrooms','Twashrooms', 'roof', 'Lawn(Area)', 'Nfloors', \n",
    "         'API', 'EXPECTED']]\n",
    "y=train['Grade']"
   ]
  },
  {
   "cell_type": "code",
   "execution_count": 10,
   "metadata": {},
   "outputs": [],
   "source": [
    "from sklearn.impute import KNNImputer\n",
    "imputer = KNNImputer(n_neighbors=1)\n",
    "X=imputer.fit_transform(X)\n",
    "X=pd.DataFrame(X)"
   ]
  },
  {
   "cell_type": "code",
   "execution_count": 11,
   "metadata": {},
   "outputs": [],
   "source": [
    "test.columns = ['Area(total)','Troom', 'Nbedrooms','Nbwashrooms', 'Twashrooms', 'roof',\n",
    "                    'Lawn(Area)', 'Nfloors', 'API', 'EXPECTED']"
   ]
  },
  {
   "cell_type": "code",
   "execution_count": 12,
   "metadata": {},
   "outputs": [],
   "source": [
    "X.columns = ['Area(total)','Troom', 'Nbedrooms','Nbwashrooms', 'Twashrooms', 'roof',\n",
    "                    'Lawn(Area)', 'Nfloors', 'API', 'EXPECTED']"
   ]
  },
  {
   "cell_type": "markdown",
   "metadata": {},
   "source": [
    "# Data Spliting"
   ]
  },
  {
   "cell_type": "code",
   "execution_count": 15,
   "metadata": {},
   "outputs": [],
   "source": [
    "x_train, x_test, y_train, y_test = train_test_split(X, y, test_size = 0.2, random_state = 0)"
   ]
  },
  {
   "cell_type": "markdown",
   "metadata": {},
   "source": [
    "# KNN Model"
   ]
  },
  {
   "cell_type": "code",
   "execution_count": 16,
   "metadata": {},
   "outputs": [
    {
     "name": "stdout",
     "output_type": "stream",
     "text": [
      "[[ 39  56   6   0   0]\n",
      " [ 20 144 131   0   0]\n",
      " [  0  46 445  61   0]\n",
      " [  0   0 194 250   0]\n",
      " [  0   0   0   8   0]]\n",
      "knn train score:- 0.6773214285714285\n",
      "knn test score:- 0.6271428571428571\n",
      "knn cross val score:- 66.0\n",
      "              precision    recall  f1-score   support\n",
      "\n",
      "           A       0.66      0.39      0.49       101\n",
      "           B       0.59      0.49      0.53       295\n",
      "           C       0.57      0.81      0.67       552\n",
      "           D       0.78      0.56      0.66       444\n",
      "           E       0.00      0.00      0.00         8\n",
      "\n",
      "    accuracy                           0.63      1400\n",
      "   macro avg       0.52      0.45      0.47      1400\n",
      "weighted avg       0.65      0.63      0.62      1400\n",
      "\n"
     ]
    },
    {
     "data": {
      "text/plain": [
       "array(['B', 'C', 'B', ..., 'D', 'A', 'C'], dtype=object)"
      ]
     },
     "execution_count": 16,
     "metadata": {},
     "output_type": "execute_result"
    }
   ],
   "source": [
    "from sklearn.neighbors import KNeighborsClassifier\n",
    "from sklearn.metrics import classification_report,accuracy_score,confusion_matrix\n",
    "from sklearn.model_selection import cross_val_score\n",
    "\n",
    "clf_knn=KNeighborsClassifier(n_neighbors=70)\n",
    "clf_knn.fit(x_train,y_train)\n",
    "knn_pred=clf_knn.predict(x_test)\n",
    "\n",
    "cfm_knn=confusion_matrix(y_test,knn_pred)\n",
    "print(cfm_knn)\n",
    "Accuracy_knn_train = clf_knn.score(x_train,y_train)\n",
    "print(\"knn train score:-\",Accuracy_knn_train)\n",
    "Accuracy_knn_test = accuracy_score(y_test,knn_pred)\n",
    "print(\"knn test score:-\",Accuracy_knn_test)\n",
    "cv_knn = cross_val_score(clf_knn, x_train, y_train, cv=5)\n",
    "print(\"knn cross val score:-\",round(cv_knn.mean(), 2) * 100)\n",
    "print(classification_report(y_test,knn_pred))\n",
    "knn_pred"
   ]
  },
  {
   "cell_type": "code",
   "execution_count": 17,
   "metadata": {},
   "outputs": [],
   "source": [
    "parameters=[{'n_neighbors':[10,20,30,40,50,60,70,80,90]}]\n",
    "\n",
    "grid_search= GridSearchCV(estimator= clf_knn,param_grid=parameters,scoring='accuracy',cv=5,n_jobs= -1)\n",
    "\n",
    "grid_search=grid_search.fit(x_train, y_train)\n",
    "best_accuracy_knn=grid_search.best_score_\n",
    "best_parameters_knn=grid_search.best_params_"
   ]
  },
  {
   "cell_type": "code",
   "execution_count": 18,
   "metadata": {},
   "outputs": [
    {
     "data": {
      "text/plain": [
       "0.665"
      ]
     },
     "execution_count": 18,
     "metadata": {},
     "output_type": "execute_result"
    }
   ],
   "source": [
    "best_accuracy_knn"
   ]
  },
  {
   "cell_type": "code",
   "execution_count": 19,
   "metadata": {},
   "outputs": [
    {
     "data": {
      "text/plain": [
       "{'n_neighbors': 70}"
      ]
     },
     "execution_count": 19,
     "metadata": {},
     "output_type": "execute_result"
    }
   ],
   "source": [
    "best_parameters_knn"
   ]
  },
  {
   "cell_type": "markdown",
   "metadata": {},
   "source": [
    "# Random Forest Model"
   ]
  },
  {
   "cell_type": "code",
   "execution_count": 20,
   "metadata": {},
   "outputs": [
    {
     "name": "stdout",
     "output_type": "stream",
     "text": [
      "[[ 71  30   0   0   0]\n",
      " [  8 250  37   0   0]\n",
      " [  0  26 489  37   0]\n",
      " [  0   0  38 406   0]\n",
      " [  0   0   0   6   2]]\n",
      "rf train score:- 1.0\n",
      "rf test score:- 0.87\n",
      "rf cross val score:- 87.0\n",
      "              precision    recall  f1-score   support\n",
      "\n",
      "           A       0.90      0.70      0.79       101\n",
      "           B       0.82      0.85      0.83       295\n",
      "           C       0.87      0.89      0.88       552\n",
      "           D       0.90      0.91      0.91       444\n",
      "           E       1.00      0.25      0.40         8\n",
      "\n",
      "    accuracy                           0.87      1400\n",
      "   macro avg       0.90      0.72      0.76      1400\n",
      "weighted avg       0.87      0.87      0.87      1400\n",
      "\n"
     ]
    },
    {
     "data": {
      "text/plain": [
       "array(['B', 'C', 'B', ..., 'C', 'A', 'D'], dtype=object)"
      ]
     },
     "execution_count": 20,
     "metadata": {},
     "output_type": "execute_result"
    }
   ],
   "source": [
    "from sklearn.ensemble import RandomForestClassifier\n",
    "from sklearn.metrics import classification_report,accuracy_score,confusion_matrix\n",
    "from sklearn.model_selection import cross_val_score\n",
    "\n",
    "clf_rf=RandomForestClassifier(criterion='entropy',random_state = 0,n_estimators = 90)\n",
    "clf_rf.fit(x_train,y_train)\n",
    "rf_pred=clf_rf.predict(x_test)\n",
    "\n",
    "cfm_rf=confusion_matrix(y_test,rf_pred)\n",
    "print(cfm_rf)\n",
    "Accuracy_rf_train = clf_rf.score(x_train,y_train)\n",
    "print(\"rf train score:-\",Accuracy_rf_train)\n",
    "Accuracy_rf_test = accuracy_score(y_test,rf_pred)\n",
    "print(\"rf test score:-\",Accuracy_rf_test)\n",
    "cv_rf = cross_val_score(clf_rf, x_train, y_train, cv=5)\n",
    "print(\"rf cross val score:-\",round(cv_rf.mean(), 2) * 100)\n",
    "print(classification_report(y_test,rf_pred))\n",
    "rf_pred"
   ]
  },
  {
   "cell_type": "code",
   "execution_count": 30,
   "metadata": {},
   "outputs": [],
   "source": [
    "parameters=[{'n_estimators' : [10,20,30,40,50,60,70,80,90], 'criterion' : ['entropy'],'random_state':[0,1,2]},\n",
    "           {'n_estimators' : [10,20,30,40,50,60,70,80,90], 'criterion' : ['gini'],'random_state':[0,1,2]}]\n",
    "\n",
    "grid_search= GridSearchCV(estimator= classifier_rf,param_grid=parameters,scoring='accuracy',cv=5,n_jobs= -1)\n",
    "\n",
    "grid_search=grid_search.fit(x_train,y_train)\n",
    "best_accuracy_rf=grid_search.best_score_\n",
    "best_parameters_rf=grid_search.best_params_"
   ]
  },
  {
   "cell_type": "code",
   "execution_count": 31,
   "metadata": {},
   "outputs": [
    {
     "data": {
      "text/plain": [
       "0.8719642857142856"
      ]
     },
     "execution_count": 31,
     "metadata": {},
     "output_type": "execute_result"
    }
   ],
   "source": [
    "best_accuracy_rf"
   ]
  },
  {
   "cell_type": "code",
   "execution_count": 32,
   "metadata": {},
   "outputs": [
    {
     "data": {
      "text/plain": [
       "{'criterion': 'entropy', 'n_estimators': 90, 'random_state': 0}"
      ]
     },
     "execution_count": 32,
     "metadata": {},
     "output_type": "execute_result"
    }
   ],
   "source": [
    "best_parameters_rf"
   ]
  },
  {
   "cell_type": "markdown",
   "metadata": {},
   "source": [
    "# SVM Model"
   ]
  },
  {
   "cell_type": "code",
   "execution_count": 21,
   "metadata": {},
   "outputs": [
    {
     "name": "stdout",
     "output_type": "stream",
     "text": [
      "[[  0   0 101   0   0]\n",
      " [  0   0 295   0   0]\n",
      " [  0   0 552   0   0]\n",
      " [  0   0 443   1   0]\n",
      " [  0   0   8   0   0]]\n",
      "svc train score:- 0.9998214285714285\n",
      "svc test score:- 0.395\n",
      "svc cross val score:- 42.0\n",
      "              precision    recall  f1-score   support\n",
      "\n",
      "           A       0.00      0.00      0.00       101\n",
      "           B       0.00      0.00      0.00       295\n",
      "           C       0.39      1.00      0.57       552\n",
      "           D       1.00      0.00      0.00       444\n",
      "           E       0.00      0.00      0.00         8\n",
      "\n",
      "    accuracy                           0.40      1400\n",
      "   macro avg       0.28      0.20      0.11      1400\n",
      "weighted avg       0.47      0.40      0.22      1400\n",
      "\n"
     ]
    },
    {
     "data": {
      "text/plain": [
       "array(['C', 'C', 'C', ..., 'C', 'C', 'C'], dtype=object)"
      ]
     },
     "execution_count": 21,
     "metadata": {},
     "output_type": "execute_result"
    }
   ],
   "source": [
    "from sklearn.svm import SVC\n",
    "from sklearn.metrics import classification_report,accuracy_score,confusion_matrix\n",
    "from sklearn.model_selection import cross_val_score\n",
    "\n",
    "clf_svc=SVC(gamma=0.1)\n",
    "clf_svc.fit(x_train,y_train)\n",
    "svc_pred=clf_svc.predict(x_test)\n",
    "\n",
    "cfm_svc=confusion_matrix(y_test,svc_pred)\n",
    "print(cfm_svc)\n",
    "Accuracy_svc_train = clf_svc.score(x_train,y_train)\n",
    "print(\"svc train score:-\",Accuracy_svc_train)\n",
    "Accuracy_svc_test = accuracy_score(y_test,svc_pred)\n",
    "print(\"svc test score:-\",Accuracy_svc_test)\n",
    "cv_svc = cross_val_score(clf_svc, x_train, y_train, cv=5)\n",
    "print(\"svc cross val score:-\",round(cv_svc.mean(), 2) * 100)\n",
    "print(classification_report(y_test,svc_pred))\n",
    "svc_pred"
   ]
  },
  {
   "cell_type": "markdown",
   "metadata": {},
   "source": [
    "### Running model on test data and generating predictions with RFC Non Generalized Model as it is giving the better accuracy precision"
   ]
  },
  {
   "cell_type": "code",
   "execution_count": 22,
   "metadata": {},
   "outputs": [],
   "source": [
    "y_pred = clf_rf.predict(test)"
   ]
  },
  {
   "cell_type": "code",
   "execution_count": 23,
   "metadata": {},
   "outputs": [],
   "source": [
    "test[\"Grade\"]=y_pred\n",
    "test[\"EXPECTED\"]=test[\"EXPECTED\"].astype(str)+\"$\""
   ]
  },
  {
   "cell_type": "code",
   "execution_count": 25,
   "metadata": {},
   "outputs": [],
   "source": [
    "test.to_csv('Prediction.csv')"
   ]
  },
  {
   "cell_type": "code",
   "execution_count": null,
   "metadata": {},
   "outputs": [],
   "source": []
  }
 ],
 "metadata": {
  "kernelspec": {
   "display_name": "Python 3",
   "language": "python",
   "name": "python3"
  },
  "language_info": {
   "codemirror_mode": {
    "name": "ipython",
    "version": 3
   },
   "file_extension": ".py",
   "mimetype": "text/x-python",
   "name": "python",
   "nbconvert_exporter": "python",
   "pygments_lexer": "ipython3",
   "version": "3.7.4"
  }
 },
 "nbformat": 4,
 "nbformat_minor": 2
}
